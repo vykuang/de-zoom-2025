{
 "cells": [
  {
   "cell_type": "code",
   "execution_count": 5,
   "metadata": {},
   "outputs": [],
   "source": [
    "\n",
    "import pyspark\n",
    "from pyspark.sql import SparkSession, types"
   ]
  },
  {
   "cell_type": "code",
   "execution_count": 2,
   "metadata": {},
   "outputs": [
    {
     "name": "stderr",
     "output_type": "stream",
     "text": [
      "your 131072x1 screen size is bogus. expect trouble\n",
      "25/03/01 14:18:02 WARN Utils: Your hostname, MANADT083L resolves to a loopback address: 127.0.1.1; using 10.255.255.254 instead (on interface lo)\n",
      "25/03/01 14:18:02 WARN Utils: Set SPARK_LOCAL_IP if you need to bind to another address\n",
      "Setting default log level to \"WARN\".\n",
      "To adjust logging level use sc.setLogLevel(newLevel). For SparkR, use setLogLevel(newLevel).\n",
      "25/03/01 14:18:03 WARN NativeCodeLoader: Unable to load native-hadoop library for your platform... using builtin-java classes where applicable\n"
     ]
    }
   ],
   "source": [
    "spark = SparkSession.builder \\\n",
    "    .master(\"local[*]\") \\\n",
    "    .appName('test') \\\n",
    "    .getOrCreate()"
   ]
  },
  {
   "cell_type": "code",
   "execution_count": null,
   "metadata": {},
   "outputs": [],
   "source": [
    "!wget https://d37ci6vzurychx.cloudfront.net/trip-data/yellow_tripdata_2024-10.parquet -O ../data/yellow_tripdata_2024-10.parquet"
   ]
  },
  {
   "cell_type": "code",
   "execution_count": 15,
   "metadata": {},
   "outputs": [
    {
     "name": "stderr",
     "output_type": "stream",
     "text": [
      "                                                                                \r"
     ]
    }
   ],
   "source": [
    "df = spark.read \\\n",
    "    .option('header', 'true') \\\n",
    "    .parquet('../data/yellow_tripdata_2024-10.parquet')"
   ]
  },
  {
   "cell_type": "code",
   "execution_count": 17,
   "metadata": {},
   "outputs": [
    {
     "name": "stdout",
     "output_type": "stream",
     "text": [
      "field VendorID\ttype IntegerType()\n",
      "field tpep_pickup_datetime\ttype TimestampNTZType()\n",
      "field tpep_dropoff_datetime\ttype TimestampNTZType()\n",
      "field passenger_count\ttype LongType()\n",
      "field trip_distance\ttype DoubleType()\n",
      "field RatecodeID\ttype LongType()\n",
      "field store_and_fwd_flag\ttype StringType()\n",
      "field PULocationID\ttype IntegerType()\n",
      "field DOLocationID\ttype IntegerType()\n",
      "field payment_type\ttype LongType()\n",
      "field fare_amount\ttype DoubleType()\n",
      "field extra\ttype DoubleType()\n",
      "field mta_tax\ttype DoubleType()\n",
      "field tip_amount\ttype DoubleType()\n",
      "field tolls_amount\ttype DoubleType()\n",
      "field improvement_surcharge\ttype DoubleType()\n",
      "field total_amount\ttype DoubleType()\n",
      "field congestion_surcharge\ttype DoubleType()\n",
      "field Airport_fee\ttype DoubleType()\n"
     ]
    }
   ],
   "source": [
    "for t in df.schema:\n",
    "    print(f'field {t.name}\\ttype {t.dataType}')"
   ]
  },
  {
   "cell_type": "code",
   "execution_count": 12,
   "metadata": {},
   "outputs": [],
   "source": [
    "schema = types.StructType([\n",
    "    types.StructField('VendorID', types.ShortType(), True),\n",
    "    types.StructField('tpep_pickup_datetime', types.TimestampType(), True),\n",
    "    types.StructField('tpep_dropoff_datetime', types.TimestampType(), True),\n",
    "    types.StructField('passenger_count', types.LongType(), True),\n",
    "    types.StructField('trip_distance', types.FloatType(), True),\n",
    "    types.StructField('RatecodeID', types.ShortType(), True),\n",
    "    types.StructField('store_and_fwd_flag', types.StringType(), True),\n",
    "    types.StructField('PULocationID', types.ShortType(), True),\n",
    "    types.StructField('DOLocationID', types.ShortType(), True),\n",
    "    types.StructField('payment_type', types.ByteType(), True),\n",
    "    types.StructField('fare_amount', types.FloatType(), True),\n",
    "    types.StructField('extra', types.FloatType(), True),\n",
    "    types.StructField('mta_tax', types.FloatType(), True),\n",
    "    types.StructField('tip_amount', types.FloatType(), True),\n",
    "    types.StructField('tolls_amount', types.FloatType(), True),\n",
    "    types.StructField('improvement_surcharge', types.FloatType(), True),\n",
    "    types.StructField('total_amount', types.FloatType(), True),\n",
    "    types.StructField('congestion_surcharge', types.FloatType(), True),\n",
    "    types.StructField('Airport_fee', types.FloatType(), True),\n",
    "])"
   ]
  },
  {
   "cell_type": "code",
   "execution_count": 13,
   "metadata": {},
   "outputs": [
    {
     "name": "stdout",
     "output_type": "stream",
     "text": [
      "StructField('VendorID', ShortType(), True)\n",
      "StructField('tpep_pickup_datetime', TimestampType(), True)\n",
      "StructField('tpep_dropoff_datetime', TimestampType(), True)\n",
      "StructField('passenger_count', LongType(), True)\n",
      "StructField('trip_distance', FloatType(), True)\n",
      "StructField('RatecodeID', ShortType(), True)\n",
      "StructField('store_and_fwd_flag', StringType(), True)\n",
      "StructField('PULocationID', ShortType(), True)\n",
      "StructField('DOLocationID', ShortType(), True)\n",
      "StructField('payment_type', ByteType(), True)\n",
      "StructField('fare_amount', FloatType(), True)\n",
      "StructField('extra', FloatType(), True)\n",
      "StructField('mta_tax', FloatType(), True)\n",
      "StructField('tip_amount', FloatType(), True)\n",
      "StructField('tolls_amount', FloatType(), True)\n",
      "StructField('improvement_surcharge', FloatType(), True)\n",
      "StructField('total_amount', FloatType(), True)\n",
      "StructField('congestion_surcharge', FloatType(), True)\n",
      "StructField('Airport_fee', FloatType(), True)\n"
     ]
    }
   ],
   "source": [
    "df = spark.read \\\n",
    "    .option('header', 'true') \\\n",
    "    .parquet('../data/yellow_tripdata_2024-10.parquet') \n",
    "for t in df.schema:\n",
    "    print(t)"
   ]
  },
  {
   "cell_type": "markdown",
   "metadata": {},
   "source": [
    "Spark cannot alter the schema of the parquet on read. It must be converted post read"
   ]
  },
  {
   "cell_type": "code",
   "execution_count": 18,
   "metadata": {},
   "outputs": [
    {
     "name": "stdout",
     "output_type": "stream",
     "text": [
      "field VendorID\tnew dtype ShortType()\n",
      "field tpep_pickup_datetime\tnew dtype TimestampType()\n",
      "field tpep_dropoff_datetime\tnew dtype TimestampType()\n",
      "field passenger_count\tnew dtype LongType()\n",
      "field trip_distance\tnew dtype FloatType()\n",
      "field RatecodeID\tnew dtype ShortType()\n",
      "field store_and_fwd_flag\tnew dtype StringType()\n",
      "field PULocationID\tnew dtype ShortType()\n",
      "field DOLocationID\tnew dtype ShortType()\n",
      "field payment_type\tnew dtype ByteType()\n",
      "field fare_amount\tnew dtype FloatType()\n",
      "field extra\tnew dtype FloatType()\n",
      "field mta_tax\tnew dtype FloatType()\n",
      "field tip_amount\tnew dtype FloatType()\n",
      "field tolls_amount\tnew dtype FloatType()\n",
      "field improvement_surcharge\tnew dtype FloatType()\n",
      "field total_amount\tnew dtype FloatType()\n",
      "field congestion_surcharge\tnew dtype FloatType()\n",
      "field Airport_fee\tnew dtype FloatType()\n"
     ]
    }
   ],
   "source": [
    "for field in schema:\n",
    "    df = df.withColumn(field.name, df[field.name].cast(field.dataType))\n",
    "for t in df.schema:\n",
    "    print(f'field {t.name}\\tnew dtype {t.dataType}')\n"
   ]
  },
  {
   "cell_type": "code",
   "execution_count": null,
   "metadata": {},
   "outputs": [
    {
     "name": "stderr",
     "output_type": "stream",
     "text": [
      "[Stage 6:=============================>                             (1 + 1) / 2]\r"
     ]
    },
    {
     "ename": "AnalysisException",
     "evalue": "[PATH_ALREADY_EXISTS] Path file:/home/klang/de-zoom-2025/data/yellow already exists. Set mode as \"overwrite\" to overwrite the existing path.",
     "output_type": "error",
     "traceback": [
      "\u001b[0;31m---------------------------------------------------------------------------\u001b[0m",
      "\u001b[0;31mAnalysisException\u001b[0m                         Traceback (most recent call last)",
      "Cell \u001b[0;32mIn[20], line 2\u001b[0m\n\u001b[1;32m      1\u001b[0m df_part \u001b[38;5;241m=\u001b[39m df\u001b[38;5;241m.\u001b[39mrepartition(\u001b[38;5;241m4\u001b[39m)\n\u001b[0;32m----> 2\u001b[0m \u001b[43mdf_part\u001b[49m\u001b[38;5;241;43m.\u001b[39;49m\u001b[43mwrite\u001b[49m\u001b[38;5;241;43m.\u001b[39;49m\u001b[43mparquet\u001b[49m\u001b[43m(\u001b[49m\u001b[38;5;124;43m'\u001b[39;49m\u001b[38;5;124;43m../data/yellow\u001b[39;49m\u001b[38;5;124;43m'\u001b[39;49m\u001b[43m)\u001b[49m\n",
      "File \u001b[0;32m~/spark/spark-3.4.4-bin-hadoop3/python/pyspark/sql/readwriter.py:1656\u001b[0m, in \u001b[0;36mDataFrameWriter.parquet\u001b[0;34m(self, path, mode, partitionBy, compression)\u001b[0m\n\u001b[1;32m   1654\u001b[0m     \u001b[38;5;28mself\u001b[39m\u001b[38;5;241m.\u001b[39mpartitionBy(partitionBy)\n\u001b[1;32m   1655\u001b[0m \u001b[38;5;28mself\u001b[39m\u001b[38;5;241m.\u001b[39m_set_opts(compression\u001b[38;5;241m=\u001b[39mcompression)\n\u001b[0;32m-> 1656\u001b[0m \u001b[38;5;28;43mself\u001b[39;49m\u001b[38;5;241;43m.\u001b[39;49m\u001b[43m_jwrite\u001b[49m\u001b[38;5;241;43m.\u001b[39;49m\u001b[43mparquet\u001b[49m\u001b[43m(\u001b[49m\u001b[43mpath\u001b[49m\u001b[43m)\u001b[49m\n",
      "File \u001b[0;32m~/spark/spark-3.4.4-bin-hadoop3/python/lib/py4j-0.10.9.7-src.zip/py4j/java_gateway.py:1322\u001b[0m, in \u001b[0;36mJavaMember.__call__\u001b[0;34m(self, *args)\u001b[0m\n\u001b[1;32m   1316\u001b[0m command \u001b[38;5;241m=\u001b[39m proto\u001b[38;5;241m.\u001b[39mCALL_COMMAND_NAME \u001b[38;5;241m+\u001b[39m\\\n\u001b[1;32m   1317\u001b[0m     \u001b[38;5;28mself\u001b[39m\u001b[38;5;241m.\u001b[39mcommand_header \u001b[38;5;241m+\u001b[39m\\\n\u001b[1;32m   1318\u001b[0m     args_command \u001b[38;5;241m+\u001b[39m\\\n\u001b[1;32m   1319\u001b[0m     proto\u001b[38;5;241m.\u001b[39mEND_COMMAND_PART\n\u001b[1;32m   1321\u001b[0m answer \u001b[38;5;241m=\u001b[39m \u001b[38;5;28mself\u001b[39m\u001b[38;5;241m.\u001b[39mgateway_client\u001b[38;5;241m.\u001b[39msend_command(command)\n\u001b[0;32m-> 1322\u001b[0m return_value \u001b[38;5;241m=\u001b[39m \u001b[43mget_return_value\u001b[49m\u001b[43m(\u001b[49m\n\u001b[1;32m   1323\u001b[0m \u001b[43m    \u001b[49m\u001b[43manswer\u001b[49m\u001b[43m,\u001b[49m\u001b[43m \u001b[49m\u001b[38;5;28;43mself\u001b[39;49m\u001b[38;5;241;43m.\u001b[39;49m\u001b[43mgateway_client\u001b[49m\u001b[43m,\u001b[49m\u001b[43m \u001b[49m\u001b[38;5;28;43mself\u001b[39;49m\u001b[38;5;241;43m.\u001b[39;49m\u001b[43mtarget_id\u001b[49m\u001b[43m,\u001b[49m\u001b[43m \u001b[49m\u001b[38;5;28;43mself\u001b[39;49m\u001b[38;5;241;43m.\u001b[39;49m\u001b[43mname\u001b[49m\u001b[43m)\u001b[49m\n\u001b[1;32m   1325\u001b[0m \u001b[38;5;28;01mfor\u001b[39;00m temp_arg \u001b[38;5;129;01min\u001b[39;00m temp_args:\n\u001b[1;32m   1326\u001b[0m     \u001b[38;5;28;01mif\u001b[39;00m \u001b[38;5;28mhasattr\u001b[39m(temp_arg, \u001b[38;5;124m\"\u001b[39m\u001b[38;5;124m_detach\u001b[39m\u001b[38;5;124m\"\u001b[39m):\n",
      "File \u001b[0;32m~/spark/spark-3.4.4-bin-hadoop3/python/pyspark/errors/exceptions/captured.py:175\u001b[0m, in \u001b[0;36mcapture_sql_exception.<locals>.deco\u001b[0;34m(*a, **kw)\u001b[0m\n\u001b[1;32m    171\u001b[0m converted \u001b[38;5;241m=\u001b[39m convert_exception(e\u001b[38;5;241m.\u001b[39mjava_exception)\n\u001b[1;32m    172\u001b[0m \u001b[38;5;28;01mif\u001b[39;00m \u001b[38;5;129;01mnot\u001b[39;00m \u001b[38;5;28misinstance\u001b[39m(converted, UnknownException):\n\u001b[1;32m    173\u001b[0m     \u001b[38;5;66;03m# Hide where the exception came from that shows a non-Pythonic\u001b[39;00m\n\u001b[1;32m    174\u001b[0m     \u001b[38;5;66;03m# JVM exception message.\u001b[39;00m\n\u001b[0;32m--> 175\u001b[0m     \u001b[38;5;28;01mraise\u001b[39;00m converted \u001b[38;5;28;01mfrom\u001b[39;00m \u001b[38;5;28;01mNone\u001b[39;00m\n\u001b[1;32m    176\u001b[0m \u001b[38;5;28;01melse\u001b[39;00m:\n\u001b[1;32m    177\u001b[0m     \u001b[38;5;28;01mraise\u001b[39;00m\n",
      "\u001b[0;31mAnalysisException\u001b[0m: [PATH_ALREADY_EXISTS] Path file:/home/klang/de-zoom-2025/data/yellow already exists. Set mode as \"overwrite\" to overwrite the existing path."
     ]
    }
   ],
   "source": [
    "df_part = df.repartition(4)"
   ]
  },
  {
   "cell_type": "code",
   "execution_count": 21,
   "metadata": {},
   "outputs": [
    {
     "name": "stderr",
     "output_type": "stream",
     "text": [
      "                                                                                \r"
     ]
    }
   ],
   "source": [
    "df_part.write.parquet('../data/yellow')\n"
   ]
  },
  {
   "cell_type": "markdown",
   "metadata": {},
   "source": [
    "## 2 partitioning\n",
    "\n",
    "25 MB x 4 partitions"
   ]
  },
  {
   "cell_type": "markdown",
   "metadata": {},
   "source": [
    "## 3 - count\n",
    "\n",
    "- `pyspark.sql.functions.to_date` to convert timestamp to date\n",
    "- `df.filter()` method"
   ]
  },
  {
   "cell_type": "code",
   "execution_count": 31,
   "metadata": {},
   "outputs": [
    {
     "name": "stderr",
     "output_type": "stream",
     "text": [
      "                                                                                \r"
     ]
    },
    {
     "data": {
      "text/plain": [
       "128893"
      ]
     },
     "execution_count": 31,
     "metadata": {},
     "output_type": "execute_result"
    }
   ],
   "source": [
    "from pyspark.sql.functions import to_date\n",
    "df.filter(to_date(df.tpep_pickup_datetime) == '2024-10-15').count()"
   ]
  },
  {
   "cell_type": "code",
   "execution_count": 33,
   "metadata": {},
   "outputs": [],
   "source": [
    "from pyspark.sql.functions import max, expr"
   ]
  },
  {
   "cell_type": "code",
   "execution_count": 34,
   "metadata": {},
   "outputs": [
    {
     "name": "stderr",
     "output_type": "stream",
     "text": [
      "[Stage 14:=============================>                            (1 + 1) / 2]\r"
     ]
    },
    {
     "name": "stdout",
     "output_type": "stream",
     "text": [
      "+----------------------+\n",
      "|max(trip_duration_sec)|\n",
      "+----------------------+\n",
      "|                585424|\n",
      "+----------------------+\n",
      "\n"
     ]
    },
    {
     "name": "stderr",
     "output_type": "stream",
     "text": [
      "                                                                                \r"
     ]
    }
   ],
   "source": [
    "df = df.withColumn(\n",
    "    'trip_duration_sec', \n",
    "    expr('timestampdiff(SECOND, tpep_pickup_datetime, tpep_dropoff_datetime)'))\n",
    "df.select(max('trip_duration_sec')).show()\n"
   ]
  },
  {
   "cell_type": "code",
   "execution_count": 36,
   "metadata": {},
   "outputs": [
    {
     "data": {
      "text/plain": [
       "162.61777777777777"
      ]
     },
     "execution_count": 36,
     "metadata": {},
     "output_type": "execute_result"
    }
   ],
   "source": [
    "585424 / 3600"
   ]
  },
  {
   "cell_type": "markdown",
   "metadata": {},
   "source": [
    "## 4 longest trip duration\n",
    "\n",
    "162 hours\n",
    "\n",
    "## 5 UI\n",
    "\n",
    "default port is 4040"
   ]
  },
  {
   "cell_type": "code",
   "execution_count": 37,
   "metadata": {},
   "outputs": [
    {
     "name": "stdout",
     "output_type": "stream",
     "text": [
      "--2025-03-01 15:14:06--  https://d37ci6vzurychx.cloudfront.net/misc/taxi_zone_lookup.csv\n",
      "Resolving d37ci6vzurychx.cloudfront.net (d37ci6vzurychx.cloudfront.net)... 3.164.82.197, 3.164.82.160, 3.164.82.40, ...\n",
      "Connecting to d37ci6vzurychx.cloudfront.net (d37ci6vzurychx.cloudfront.net)|3.164.82.197|:443... connected.\n",
      "HTTP request sent, awaiting response... 200 OK\n",
      "Length: 12331 (12K) [text/csv]\n",
      "Saving to: ‘../data/taxi_zone_lookup.csv’\n",
      "\n",
      "../data/taxi_zone_l 100%[===================>]  12.04K  --.-KB/s    in 0s      \n",
      "\n",
      "2025-03-01 15:14:07 (148 MB/s) - ‘../data/taxi_zone_lookup.csv’ saved [12331/12331]\n",
      "\n"
     ]
    }
   ],
   "source": [
    "!wget https://d37ci6vzurychx.cloudfront.net/misc/taxi_zone_lookup.csv -O ../data/taxi_zone_lookup.csv"
   ]
  },
  {
   "cell_type": "code",
   "execution_count": 38,
   "metadata": {},
   "outputs": [
    {
     "name": "stdout",
     "output_type": "stream",
     "text": [
      "+----------+-------------+--------------------+------------+\n",
      "|LocationID|      Borough|                Zone|service_zone|\n",
      "+----------+-------------+--------------------+------------+\n",
      "|         1|          EWR|      Newark Airport|         EWR|\n",
      "|         2|       Queens|         Jamaica Bay|   Boro Zone|\n",
      "|         3|        Bronx|Allerton/Pelham G...|   Boro Zone|\n",
      "|         4|    Manhattan|       Alphabet City| Yellow Zone|\n",
      "|         5|Staten Island|       Arden Heights|   Boro Zone|\n",
      "+----------+-------------+--------------------+------------+\n",
      "\n"
     ]
    }
   ],
   "source": [
    "zones = spark.read \\\n",
    "    .option('header', 'true') \\\n",
    "    .csv('../data/taxi_zone_lookup.csv')\n",
    "\n",
    "zones.createOrReplaceTempView('zones')\n",
    "res = spark.sql(\"select * from zones limit 5\")\n",
    "res.show()"
   ]
  },
  {
   "cell_type": "code",
   "execution_count": 42,
   "metadata": {},
   "outputs": [
    {
     "name": "stderr",
     "output_type": "stream",
     "text": [
      "[Stage 24:>                                                         (0 + 2) / 2]\r"
     ]
    },
    {
     "name": "stdout",
     "output_type": "stream",
     "text": [
      "+------------+--------+--------------------+\n",
      "|PULocationID|numtrips|                Zone|\n",
      "+------------+--------+--------------------+\n",
      "|         105|       1|Governor's Island...|\n",
      "|         199|       2|       Rikers Island|\n",
      "|           5|       2|       Arden Heights|\n",
      "|           2|       3|         Jamaica Bay|\n",
      "|         111|       3| Green-Wood Cemetery|\n",
      "|         245|       4|       West Brighton|\n",
      "|         204|       4|   Rossville/Woodrow|\n",
      "|          44|       4|Charleston/Totten...|\n",
      "|          84|       4|Eltingville/Annad...|\n",
      "|         187|       4|       Port Richmond|\n",
      "|          59|       6|        Crotona Park|\n",
      "|         109|       6|         Great Kills|\n",
      "|         156|       7|     Mariners Harbor|\n",
      "|         118|       7|Heartland Village...|\n",
      "|         206|       9|Saint George/New ...|\n",
      "|         176|       9|             Oakwood|\n",
      "|         172|      10|New Dorp/Midland ...|\n",
      "|          30|      10|       Broad Channel|\n",
      "|         184|      12|     Pelham Bay Park|\n",
      "|         251|      12|         Westerleigh|\n",
      "+------------+--------+--------------------+\n",
      "only showing top 20 rows\n",
      "\n"
     ]
    },
    {
     "name": "stderr",
     "output_type": "stream",
     "text": [
      "                                                                                \r"
     ]
    }
   ],
   "source": [
    "df.createOrReplaceTempView('trips')\n",
    "res = spark.sql(\n",
    "    \"select PULocationID, count(*) numtrips, z.Zone \"\n",
    "    \"from trips t \"\n",
    "    \"join zones z \"\n",
    "    \"on t.PULocationID = z.LocationID \"\n",
    "    \"group by t.PULocationID, z.Zone \"\n",
    "    \"order by numtrips\"\n",
    ")\n",
    "res.show()"
   ]
  },
  {
   "cell_type": "markdown",
   "metadata": {},
   "source": [
    "## 6 - least freq pickup zone\n",
    "\n",
    "- create another view from df\n",
    "- use regular SQL to join zone lookup\n",
    "- governor's island"
   ]
  },
  {
   "cell_type": "markdown",
   "metadata": {},
   "source": []
  }
 ],
 "metadata": {
  "kernelspec": {
   "display_name": "coding-practice-Dfjb6kRM-py3.12",
   "language": "python",
   "name": "python3"
  },
  "language_info": {
   "codemirror_mode": {
    "name": "ipython",
    "version": 3
   },
   "file_extension": ".py",
   "mimetype": "text/x-python",
   "name": "python",
   "nbconvert_exporter": "python",
   "pygments_lexer": "ipython3",
   "version": "3.12.2"
  }
 },
 "nbformat": 4,
 "nbformat_minor": 2
}
